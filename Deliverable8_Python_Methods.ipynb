{
  "nbformat": 4,
  "nbformat_minor": 0,
  "metadata": {
    "colab": {
      "provenance": []
    },
    "kernelspec": {
      "name": "python3",
      "display_name": "Python 3"
    },
    "language_info": {
      "name": "python"
    }
  },
  "cells": [
    {
      "cell_type": "markdown",
      "source": [
        "Deliverable 8 - Python: Methods"
      ],
      "metadata": {
        "id": "sTLJLJB_Pfax"
      }
    },
    {
      "cell_type": "code",
      "source": [
        "#import numpy\n",
        "import numpy as np"
      ],
      "metadata": {
        "id": "3gddv3ZBTCgk"
      },
      "execution_count": 1,
      "outputs": []
    },
    {
      "cell_type": "markdown",
      "source": [
        "Use Python's functions to replicate PROGRAM (4) from Deliverable (5). Consider:\n",
        "\n",
        "Method 1: Randomly populate a list with integers numbers between 10 and 50. The list length is a parameter for the method. \n",
        "\n",
        "Method 2: Return the summation of all the elements of a list (the list is the parameter for this method). "
      ],
      "metadata": {
        "id": "BaaQu97xPIQa"
      }
    },
    {
      "cell_type": "code",
      "source": [
        "#  1  Ask the user to enter an integer number between 5 and 15.\n",
        "n = int(input(\"Enter a number between 5 and 15: \"))"
      ],
      "metadata": {
        "colab": {
          "base_uri": "https://localhost:8080/"
        },
        "id": "2EtBdD8BPP0s",
        "outputId": "b04869c9-175a-4281-fe16-7e6d3852cf64"
      },
      "execution_count": 34,
      "outputs": [
        {
          "name": "stdout",
          "output_type": "stream",
          "text": [
            "Enter a number between 5 and 15: 20\n"
          ]
        }
      ]
    },
    {
      "cell_type": "code",
      "source": [
        "# 2 Use a conditional statement to check the user’s entry is between 5 and 15.\n",
        "\n",
        "while ((n> 15) or (n< 5)):\n",
        "  print(\"Amount is less than 5 or greater than 15. \\n Try Again\")\n",
        "  n = int(input(\"Enter a number between 5 and 15:  \"))"
      ],
      "metadata": {
        "colab": {
          "base_uri": "https://localhost:8080/"
        },
        "id": "EUv2CawBPThA",
        "outputId": "b41758aa-971e-419d-f18d-5a9850804987"
      },
      "execution_count": 36,
      "outputs": [
        {
          "name": "stdout",
          "output_type": "stream",
          "text": [
            "Amount is less than 5 or greater than 15. \n",
            " Try Again\n",
            "Enter a number between 5 and 15:  1\n",
            "Amount is less than 5 or greater than 15. \n",
            " Try Again\n",
            "Enter a number between 5 and 15:  2\n",
            "Enter a number between 5 and 15:  3\n",
            "Amount is less than 5 or greater than 15. \n",
            " Try Again\n",
            "Amount is less than 5 or greater than 15. \n",
            " Try Again\n",
            "Enter a number between 5 and 15:  4\n",
            "Amount is less than 5 or greater than 15. \n",
            " Try Again\n",
            "Enter a number between 5 and 15:  5\n"
          ]
        }
      ]
    },
    {
      "cell_type": "code",
      "source": [
        "# 3 Use Method 1 to randomly populates a list with a length equal to the user’s entry. \n",
        "# Lists should have the same length, n (user's entry).\n",
        "\n",
        "# size is where the variable goes \n",
        "def random_list(size):\n",
        "  list = []\n",
        "  for i in range(size):\n",
        "    list.append(np.random.randint(10,50))\n",
        "  return list"
      ],
      "metadata": {
        "id": "K9I70iDQPWOH"
      },
      "execution_count": 40,
      "outputs": []
    },
    {
      "cell_type": "code",
      "source": [
        "# 4 Display in the console all the elements the in the list.\n",
        "# run it \n",
        "\n",
        "MyList = random_list(n)\n",
        "MyList\n",
        "list1 = str(MyList)\n",
        "print(\"The elements of the array are: \"+ list1)"
      ],
      "metadata": {
        "colab": {
          "base_uri": "https://localhost:8080/"
        },
        "id": "ZKKnKR7nbRN6",
        "outputId": "5c733072-b990-41a9-9ac0-ba4aef4bd98c"
      },
      "execution_count": 48,
      "outputs": [
        {
          "output_type": "stream",
          "name": "stdout",
          "text": [
            "The elements of the array are: [13, 17, 16, 48, 47]\n"
          ]
        }
      ]
    },
    {
      "cell_type": "code",
      "source": [
        "# 5 Use Method 2 to sum all the elements in the list from step 3.\n",
        "\n",
        "def sum_random (list):\n",
        "  sum = 0\n",
        "  for i in range(len(list)):\n",
        "    sum = sum + list[i]\n",
        "  return sum "
      ],
      "metadata": {
        "id": "kETXBVxybqe2"
      },
      "execution_count": 49,
      "outputs": []
    },
    {
      "cell_type": "code",
      "source": [
        "# 6 Display in the console the value from step 5.\n",
        "MySum = sum_random(MyList)\n",
        "sum = str(MySum)\n",
        "print(\"The sum is: \"+ sum)"
      ],
      "metadata": {
        "colab": {
          "base_uri": "https://localhost:8080/"
        },
        "id": "2GDtMH6_cJLZ",
        "outputId": "40d1f63d-20cc-4d64-fc65-4cda9d7a6b8d"
      },
      "execution_count": 50,
      "outputs": [
        {
          "output_type": "stream",
          "name": "stdout",
          "text": [
            "The sum is: 141\n"
          ]
        }
      ]
    }
  ]
}